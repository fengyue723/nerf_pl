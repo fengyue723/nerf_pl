{
 "cells": [
  {
   "cell_type": "code",
   "execution_count": 1,
   "metadata": {},
   "outputs": [],
   "source": [
    "import numpy as np\n",
    "# np.set_printoptions(precision=3)\n",
    "np.set_printoptions(suppress=True)"
   ]
  },
  {
   "cell_type": "code",
   "execution_count": 19,
   "metadata": {},
   "outputs": [],
   "source": [
    "poses_arr = np.load(\"./datasets/nerf_llff_data/desk02/poses_bounds.npy\")"
   ]
  },
  {
   "cell_type": "code",
   "execution_count": 20,
   "metadata": {},
   "outputs": [
    {
     "name": "stdout",
     "output_type": "stream",
     "text": [
      "(21, 17)\n"
     ]
    }
   ],
   "source": [
    "print(poses_arr .shape)"
   ]
  },
  {
   "cell_type": "code",
   "execution_count": 21,
   "metadata": {},
   "outputs": [
    {
     "name": "stdout",
     "output_type": "stream",
     "text": [
      "['-0.255', '0.965', '-0.066', '-0.265', '3024.000', '0.948', '0.263', '0.179', '4.827', '4032.000', '0.190', '-0.017', '-0.982', '-0.962', '2972.516', '5.862', '13.642']\n"
     ]
    }
   ],
   "source": [
    "print([\"%.3f\"%x for x in poses_arr [0]])"
   ]
  },
  {
   "cell_type": "code",
   "execution_count": 32,
   "metadata": {},
   "outputs": [],
   "source": [
    "# test\n",
    "poses = poses_arr[:, :-2].reshape([-1, 3, 5])\n",
    "bds = poses_arr[:, -2:]"
   ]
  },
  {
   "cell_type": "code",
   "execution_count": 33,
   "metadata": {},
   "outputs": [
    {
     "name": "stdout",
     "output_type": "stream",
     "text": [
      "(21, 3, 5)\n",
      "(21, 2)\n"
     ]
    }
   ],
   "source": [
    "print(poses.shape)\n",
    "print(bds.shape)"
   ]
  },
  {
   "cell_type": "code",
   "execution_count": 45,
   "metadata": {},
   "outputs": [
    {
     "name": "stdout",
     "output_type": "stream",
     "text": [
      "[[  -0.255    0.965   -0.066   -0.265 3024.   ]\n",
      " [   0.948    0.263    0.179    4.827 4032.   ]\n",
      " [   0.19    -0.017   -0.982   -0.962 2972.516]]\n"
     ]
    }
   ],
   "source": [
    "print(poses[0])"
   ]
  },
  {
   "cell_type": "code",
   "execution_count": 37,
   "metadata": {},
   "outputs": [
    {
     "name": "stdout",
     "output_type": "stream",
     "text": [
      "[ 5.86178299 13.64211552]\n"
     ]
    }
   ],
   "source": [
    "print(bds[0])"
   ]
  },
  {
   "cell_type": "code",
   "execution_count": null,
   "metadata": {},
   "outputs": [],
   "source": []
  },
  {
   "cell_type": "code",
   "execution_count": null,
   "metadata": {},
   "outputs": [],
   "source": [
    "def create_spheric_poses(radius, n_poses=120):\n",
    "    \"\"\"\n",
    "    Create circular poses around z axis.\n",
    "    Inputs:\n",
    "        radius: the (negative) height and the radius of the circle.\n",
    "\n",
    "    Outputs:\n",
    "        spheric_poses: (n_poses, 3, 4) the poses in the circular path\n",
    "    \"\"\"\n",
    "    def spheric_pose(theta, phi, radius):\n",
    "        trans_t = lambda t : np.array([\n",
    "            [1,0,0,0],\n",
    "            [0,1,0,-0.9*t],\n",
    "            [0,0,1,t],\n",
    "            [0,0,0,1],\n",
    "        ])\n",
    "\n",
    "        rot_phi = lambda phi : np.array([\n",
    "            [1,0,0,0],\n",
    "            [0,np.cos(phi),-np.sin(phi),0],\n",
    "            [0,np.sin(phi), np.cos(phi),0],\n",
    "            [0,0,0,1],\n",
    "        ])\n",
    "\n",
    "        rot_theta = lambda th : np.array([\n",
    "            [np.cos(th),0,-np.sin(th),0],\n",
    "            [0,1,0,0],\n",
    "            [np.sin(th),0, np.cos(th),0],\n",
    "            [0,0,0,1],\n",
    "        ])\n",
    "\n",
    "        c2w = rot_theta(theta) @ rot_phi(phi) @ trans_t(radius)\n",
    "        c2w = np.array([[-1,0,0,0],[0,0,1,0],[0,1,0,0],[0,0,0,1]]) @ c2w\n",
    "        return c2w[:3]\n",
    "\n",
    "    spheric_poses = []\n",
    "    for th in np.linspace(0, 2*np.pi, n_poses+1)[:-1]:\n",
    "        spheric_poses += [spheric_pose(th, -np.pi/5, radius)] # 36 degree view downwards\n",
    "    return np.stack(spheric_poses, 0)"
   ]
  },
  {
   "cell_type": "code",
   "execution_count": 2,
   "metadata": {},
   "outputs": [],
   "source": [
    "\n",
    "def left_to_right_eye(x, y, z, theta):\n",
    "    theta_a = np.arctan(y/x)\n",
    "    r = np.sqrt(np.square(x) + np.square(y))\n",
    "    theta_prime = 2 * np.arcsin(np.sqrt(np.square(x) + np.square(y) + np.square(z)) * np.sin(theta/2) / r)\n",
    "    x_prime = r * np.cos(theta_a + theta_prime)\n",
    "    y_prime = r * np.sin(theta_a + theta_prime)\n",
    "    return x_prime, y_prime"
   ]
  },
  {
   "cell_type": "code",
   "execution_count": 3,
   "metadata": {},
   "outputs": [],
   "source": [
    "def left_to_right_eye_sxy(x, y, z, theta):\n",
    "    common_part = np.cos(theta) - np.square(z) * (1 - np.cos(theta)) / (np.square(x) + np.square(y))\n",
    "    x_prime = x * common_part - y * np.sqrt(1 - np.square(common_part))\n",
    "    y_prime = y * common_part + x * np.sqrt(1 - np.square(common_part))\n",
    "    return x_prime, y_prime"
   ]
  },
  {
   "cell_type": "code",
   "execution_count": 4,
   "metadata": {},
   "outputs": [
    {
     "name": "stdout",
     "output_type": "stream",
     "text": [
      "(0.8362939198498173, 1.1404439835529965)\n",
      "(0.8362939198498158, 1.1404439835529976)\n"
     ]
    }
   ],
   "source": [
    "print(left_to_right_eye(1,1,3,np.arcsin(0.065)))\n",
    "print(left_to_right_eye_sxy(1,1,3,np.arcsin(0.065)))"
   ]
  },
  {
   "cell_type": "code",
   "execution_count": 7,
   "metadata": {},
   "outputs": [
    {
     "name": "stdout",
     "output_type": "stream",
     "text": [
      "(0.9552802278002405, 0.28353560946713846)\n",
      "(-0.9552802278002405, -0.28353560946713874)\n"
     ]
    }
   ],
   "source": [
    "print(left_to_right_eye(-0.97307063, -0.21467721, 0.45048404,np.arcsin(0.065)))\n",
    "print(left_to_right_eye_sxy(-0.97307063, -0.21467721, 0.45048404,np.arcsin(0.065)))"
   ]
  },
  {
   "cell_type": "code",
   "execution_count": null,
   "metadata": {},
   "outputs": [],
   "source": [
    "[-0.97307063 -0.21467721 -0.45048404]"
   ]
  },
  {
   "cell_type": "code",
   "execution_count": 61,
   "metadata": {},
   "outputs": [
    {
     "name": "stdout",
     "output_type": "stream",
     "text": [
      "center: [ 1.1 -0.  -0. ]\n",
      "z: [ 0.3   -0.     0.954]\n",
      "x: [ 0.954  0.    -0.3  ]\n",
      "y: [0. 1. 0.]\n",
      "\n",
      "center: [ 0.191 -1.083 -0.707]\n",
      "z: [ 0.064 -0.361  0.93 ]\n",
      "x: [ 0.998  0.    -0.068]\n",
      "y: [0.025 0.933 0.36 ]\n",
      "\n",
      "center: [-1.034 -0.376 -1.083]\n",
      "z: [-0.389 -0.142  0.91 ]\n",
      "x: [ 0.919 -0.     0.393]\n",
      "y: [-0.056  0.99   0.13 ]\n",
      "\n",
      "center: [-0.55   0.953 -0.953]\n",
      "z: [-0.198  0.343  0.918]\n",
      "x: [ 0.977 -0.     0.211]\n",
      "y: [ 0.072  0.939 -0.336]\n",
      "\n",
      "center: [ 0.843  0.707 -0.376]\n",
      "z: [0.254 0.213 0.943]\n",
      "x: [ 0.965  0.    -0.26 ]\n",
      "y: [-0.056  0.977 -0.206]\n",
      "\n",
      "center: [ 0.843 -0.707  0.376]\n",
      "z: [ 0.209 -0.175  0.962]\n",
      "x: [ 0.977  0.    -0.212]\n",
      "y: [0.037 0.984 0.171]\n",
      "\n",
      "center: [-0.55  -0.953  0.953]\n",
      "z: [-0.12  -0.208  0.971]\n",
      "x: [ 0.992 -0.     0.123]\n",
      "y: [-0.025  0.978  0.206]\n",
      "\n",
      "center: [-1.034  0.376  1.083]\n",
      "z: [-0.219  0.08   0.972]\n",
      "x: [ 0.975 -0.     0.22 ]\n",
      "y: [ 0.018  0.997 -0.078]\n",
      "\n",
      "center: [0.191 1.083 0.707]\n",
      "z: [0.044 0.249 0.967]\n",
      "x: [ 0.999  0.    -0.045]\n",
      "y: [-0.011  0.968 -0.249]\n",
      "\n",
      "res:  [[ 0.954  0.     0.3    1.1  ]\n",
      " [ 0.     1.    -0.    -0.   ]\n",
      " [-0.3    0.     0.954 -0.   ]]\n"
     ]
    }
   ],
   "source": [
    "def normalize(v):\n",
    "    \"\"\"Normalize a vector.\"\"\"\n",
    "    return v/np.linalg.norm(v)\n",
    "\n",
    "radii, focus_depth, n_poses = 1.1, 3.5, 9\n",
    "poses_spiral = []\n",
    "for t in np.linspace(0, 4*np.pi, n_poses+1)[:-1]: # rotate 4pi (2 rounds)\n",
    "    # the parametric function of the spiral (see the interactive web)\n",
    "    center = np.array([np.cos(t), -np.sin(t), -np.sin(0.5*t)]) * radii\n",
    "    print(\"center:\", center)\n",
    "\n",
    "    # the viewing z axis is the vector pointing from the @focus_depth plane\n",
    "    # to @center\n",
    "    z = normalize(center - np.array([0, 0, -focus_depth]))\n",
    "    print(\"z:\", z)\n",
    "\n",
    "    # compute other axes as in @average_poses\n",
    "    y_ = np.array([0, 1, 0]) # (3)\n",
    "    x = normalize(np.cross(y_, z)) # (3)\n",
    "    y = np.cross(z, x) # (3)\n",
    "    print(\"x:\", x)\n",
    "    print(\"y:\", y)\n",
    "    print()\n",
    "\n",
    "    poses_spiral += [np.stack([x, y, z, center], 1)] # (3, 4)\n",
    "\n",
    "###    Outputs:\n",
    "###        poses_spiral: (n_poses, 3, 4) the poses in the spiral path\n",
    "res = np.stack(poses_spiral, 0) # (n_poses, 3, 4)\n",
    "print(\"res: \", res[0])"
   ]
  },
  {
   "cell_type": "code",
   "execution_count": null,
   "metadata": {},
   "outputs": [],
   "source": []
  },
  {
   "cell_type": "code",
   "execution_count": 8,
   "metadata": {},
   "outputs": [],
   "source": [
    "import imageio, os\n",
    "import numpy as np\n",
    "# imageio.mimsave(os.path.join(dir_name, f'{args.scene_name}.gif'), imgs, fps=30)"
   ]
  },
  {
   "cell_type": "code",
   "execution_count": 9,
   "metadata": {},
   "outputs": [],
   "source": [
    "dir_name = \"./results/llff/\"\n",
    "left_eye_dir = \"desk02_rotate\"\n",
    "right_eye_dir = \"desk02_right_eye_rotate_0.045_2\"\n",
    "double_eye = \"desk02_rotate_bino\"\n",
    "n_pic = 120"
   ]
  },
  {
   "cell_type": "code",
   "execution_count": 12,
   "metadata": {},
   "outputs": [
    {
     "name": "stdout",
     "output_type": "stream",
     "text": [
      "000\n",
      "001\n",
      "002\n",
      "003\n",
      "004\n",
      "005\n",
      "006\n",
      "007\n",
      "008\n",
      "009\n",
      "010\n",
      "011\n",
      "012\n",
      "013\n",
      "014\n",
      "015\n",
      "016\n",
      "017\n",
      "018\n",
      "019\n",
      "020\n",
      "021\n",
      "022\n",
      "023\n",
      "024\n",
      "025\n",
      "026\n",
      "027\n",
      "028\n",
      "029\n",
      "030\n",
      "031\n",
      "032\n",
      "033\n",
      "034\n",
      "035\n",
      "036\n",
      "037\n",
      "038\n",
      "039\n",
      "040\n",
      "041\n",
      "042\n",
      "043\n",
      "044\n",
      "045\n",
      "046\n",
      "047\n",
      "048\n",
      "049\n",
      "050\n",
      "051\n",
      "052\n",
      "053\n",
      "054\n",
      "055\n",
      "056\n",
      "057\n",
      "058\n",
      "059\n",
      "060\n",
      "061\n",
      "062\n",
      "063\n",
      "064\n",
      "065\n",
      "066\n",
      "067\n",
      "068\n",
      "069\n",
      "070\n",
      "071\n",
      "072\n",
      "073\n",
      "074\n",
      "075\n",
      "076\n",
      "077\n",
      "078\n",
      "079\n",
      "080\n",
      "081\n",
      "082\n",
      "083\n",
      "084\n",
      "085\n",
      "086\n",
      "087\n",
      "088\n",
      "089\n",
      "090\n",
      "091\n",
      "092\n",
      "093\n",
      "094\n",
      "095\n",
      "096\n",
      "097\n",
      "098\n",
      "099\n",
      "100\n",
      "101\n",
      "102\n",
      "103\n",
      "104\n",
      "105\n",
      "106\n",
      "107\n",
      "108\n",
      "109\n",
      "110\n",
      "111\n",
      "112\n",
      "113\n",
      "114\n",
      "115\n",
      "116\n",
      "117\n",
      "118\n",
      "119\n"
     ]
    }
   ],
   "source": [
    "imgs = []\n",
    "for i in range(n_pic):\n",
    "    file_name = \"%.3d.png\"%i\n",
    "    img_l = imageio.imread(os.path.join(dir_name, left_eye_dir, file_name))\n",
    "    img_r = imageio.imread(os.path.join(dir_name, right_eye_dir, file_name))\n",
    "    #新建一个拼接黑白条，可以不加\n",
    "    # zero_s = np.zeros((256, 5, 3)).astype(np.uint8)\n",
    "    new_pic = np.concatenate([img_l, img_r], axis=1)\n",
    "    imgs.append(new_pic)\n",
    "\n",
    "imageio.mimsave(os.path.join(dir_name, double_eye, 'fps30number120.gif'), imgs, fps=30)\n",
    "imageio.mimsave(os.path.join(dir_name, double_eye, 'fps20number120.gif'), imgs, fps=20)"
   ]
  }
 ],
 "metadata": {
  "kernelspec": {
   "display_name": "Python 3",
   "language": "python",
   "name": "python3"
  },
  "language_info": {
   "codemirror_mode": {
    "name": "ipython",
    "version": 3
   },
   "file_extension": ".py",
   "mimetype": "text/x-python",
   "name": "python",
   "nbconvert_exporter": "python",
   "pygments_lexer": "ipython3",
   "version": "3.7.6"
  },
  "orig_nbformat": 4,
  "vscode": {
   "interpreter": {
    "hash": "b89e450fc13fc58206b31abe7537bb9c241cde63b4b00d96b2a9782a27a1430e"
   }
  }
 },
 "nbformat": 4,
 "nbformat_minor": 2
}
